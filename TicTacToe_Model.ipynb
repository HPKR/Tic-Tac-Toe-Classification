{
 "cells": [
  {
   "cell_type": "markdown",
   "metadata": {},
   "source": [
    "# **Tic-Tac-Toe Classification Model**"
   ]
  },
  {
   "cell_type": "markdown",
   "metadata": {},
   "source": [
    "### 1. Title: Tic-Tac-Toe Endgame database\n",
    "\n",
    "### 2. Source Information\n",
    "   -- Creator: David W. Aha (aha@cs.jhu.edu)\n",
    "   -- Donor: David W. Aha (aha@cs.jhu.edu)\n",
    "   -- Date: 19 August 1991\n",
    " \n",
    "### 3. Known Past Usage: \n",
    "   1. Matheus,~C.~J., \\& Rendell,~L.~A. (1989).  Constructive\n",
    "      induction on decision trees.  In {\\it Proceedings of the\n",
    "      Eleventh International Joint Conference on Artificial Intelligence} \n",
    "      (pp. 645--650).  Detroit, MI: Morgan Kaufmann.\n",
    "      -- CITRE was applied to 100-instance training and 200-instance test\n",
    "         sets.  In a study using various amounts of domain-specific\n",
    "         knowledge, its highest average accuracy was 76.7% (using the\n",
    "         final decision tree created for testing).\n",
    "\n",
    "   2. Matheus,~C.~J. (1990). Adding domain knowledge to SBL through\n",
    "      feature construction.  In {\\it Proceedings of the Eighth National\n",
    "      Conference on Artificial Intelligence} (pp. 803--808). \n",
    "      Boston, MA: AAAI Press.\n",
    "      -- Similar experiments with CITRE, includes learning curves up\n",
    "         to 500-instance training sets but used _all_ instances in the\n",
    "         database for testing.  Accuracies reached above 90%, but specific\n",
    "         values are not given (see Chris's dissertation for more details).\n",
    "\n",
    "   3. Aha,~D.~W. (1991). Incremental constructive induction: An instance-based\n",
    "      approach.  In {\\it Proceedings of the Eighth International Workshop\n",
    "      on Machine Learning} (pp. 117--121).  Evanston, ILL: Morgan Kaufmann.\n",
    "      -- Used 70% for training, 30% of the instances for testing, evaluated\n",
    "         over 10 trials.  Results reported for six algorithms:\n",
    "         -- NewID:   84.0%\n",
    "         -- CN2:     98.1%  \n",
    "         -- MBRtalk: 88.4%\n",
    "         -- IB1:     98.1% \n",
    "         -- IB3:     82.0%\n",
    "         -- IB3-CI:  99.1%\n",
    "      -- Results also reported when adding an additional 10 irrelevant \n",
    "         ternary-valued attributes; similar _relative_ results except that\n",
    "         IB1's performance degraded more quickly than the others.\n",
    "\n",
    "### 4. Relevant Information:\n",
    "\n",
    "   This database encodes the complete set of possible board configurations\n",
    "   at the end of tic-tac-toe games, where \"x\" is assumed to have played\n",
    "   first.  The target concept is \"win for x\" (i.e., true when \"x\" has one\n",
    "   of 8 possible ways to create a \"three-in-a-row\").  \n",
    "\n",
    "   Interestingly, this raw database gives a stripped-down decision tree\n",
    "   algorithm (e.g., ID3) fits.  However, the rule-based CN2 algorithm, the\n",
    "   simple IB1 instance-based learning algorithm, and the CITRE \n",
    "   feature-constructing decision tree algorithm perform well on it.\n",
    "\n",
    "### 5. Number of Instances: 958 (legal tic-tac-toe endgame boards)\n",
    "\n",
    "### 6. Number of Attributes: 9, each corresponding to one tic-tac-toe square\n",
    "\n",
    "### 7. Attribute Information: (x=player x has taken, o=player o has taken, b=blank)\n",
    "\n",
    "    1. top-left-square: {x,o,b}\n",
    "    2. top-middle-square: {x,o,b}\n",
    "    3. top-right-square: {x,o,b}\n",
    "    4. middle-left-square: {x,o,b}\n",
    "    5. middle-middle-square: {x,o,b}\n",
    "    6. middle-right-square: {x,o,b}\n",
    "    7. bottom-left-square: {x,o,b}\n",
    "    8. bottom-middle-square: {x,o,b}\n",
    "    9. bottom-right-square: {x,o,b}\n",
    "    10. Class: {positive,negative}\n",
    "\n",
    "### 8. Missing Attribute Values: None\n",
    "\n",
    "### 9. Class Distribution: About 65.3% are positive (i.e., wins for \"x\")"
   ]
  },
  {
   "cell_type": "markdown",
   "metadata": {},
   "source": [
    "### **Import Standard Packages and Libraries**"
   ]
  },
  {
   "cell_type": "code",
   "execution_count": 1,
   "metadata": {},
   "outputs": [],
   "source": [
    "import numpy as np\n",
    "import pandas as pd\n",
    "\n",
    "import seaborn as sns\n",
    "import matplotlib.pyplot as plt\n",
    "\n",
    "from sklearn.model_selection import train_test_split, GridSearchCV, cross_val_score, KFold\n",
    "from sklearn.ensemble import RandomForestClassifier, GradientBoostingClassifier\n",
    "from sklearn.metrics import confusion_matrix, accuracy_score, plot_confusion_matrix\n",
    "from xgboost import XGBClassifier\n",
    "from sklearn.preprocessing import StandardScaler, LabelEncoder, OneHotEncoder\n",
    "\n",
    "# Ignore the Warnings\n",
    "from warnings import filterwarnings\n",
    "filterwarnings(\"ignore\")"
   ]
  },
  {
   "cell_type": "markdown",
   "metadata": {},
   "source": [
    "### **Read the Dataset into a Dataframe**"
   ]
  },
  {
   "cell_type": "code",
   "execution_count": 2,
   "metadata": {},
   "outputs": [
    {
     "data": {
      "text/html": [
       "<div>\n",
       "<style scoped>\n",
       "    .dataframe tbody tr th:only-of-type {\n",
       "        vertical-align: middle;\n",
       "    }\n",
       "\n",
       "    .dataframe tbody tr th {\n",
       "        vertical-align: top;\n",
       "    }\n",
       "\n",
       "    .dataframe thead th {\n",
       "        text-align: right;\n",
       "    }\n",
       "</style>\n",
       "<table border=\"1\" class=\"dataframe\">\n",
       "  <thead>\n",
       "    <tr style=\"text-align: right;\">\n",
       "      <th></th>\n",
       "      <th>0</th>\n",
       "      <th>1</th>\n",
       "      <th>2</th>\n",
       "      <th>3</th>\n",
       "      <th>4</th>\n",
       "      <th>5</th>\n",
       "      <th>6</th>\n",
       "      <th>7</th>\n",
       "      <th>8</th>\n",
       "      <th>9</th>\n",
       "    </tr>\n",
       "  </thead>\n",
       "  <tbody>\n",
       "    <tr>\n",
       "      <th>0</th>\n",
       "      <td>x</td>\n",
       "      <td>x</td>\n",
       "      <td>x</td>\n",
       "      <td>x</td>\n",
       "      <td>o</td>\n",
       "      <td>o</td>\n",
       "      <td>x</td>\n",
       "      <td>o</td>\n",
       "      <td>o</td>\n",
       "      <td>positive</td>\n",
       "    </tr>\n",
       "    <tr>\n",
       "      <th>1</th>\n",
       "      <td>x</td>\n",
       "      <td>x</td>\n",
       "      <td>x</td>\n",
       "      <td>x</td>\n",
       "      <td>o</td>\n",
       "      <td>o</td>\n",
       "      <td>o</td>\n",
       "      <td>x</td>\n",
       "      <td>o</td>\n",
       "      <td>positive</td>\n",
       "    </tr>\n",
       "    <tr>\n",
       "      <th>2</th>\n",
       "      <td>x</td>\n",
       "      <td>x</td>\n",
       "      <td>x</td>\n",
       "      <td>x</td>\n",
       "      <td>o</td>\n",
       "      <td>o</td>\n",
       "      <td>o</td>\n",
       "      <td>o</td>\n",
       "      <td>x</td>\n",
       "      <td>positive</td>\n",
       "    </tr>\n",
       "    <tr>\n",
       "      <th>3</th>\n",
       "      <td>x</td>\n",
       "      <td>x</td>\n",
       "      <td>x</td>\n",
       "      <td>x</td>\n",
       "      <td>o</td>\n",
       "      <td>o</td>\n",
       "      <td>o</td>\n",
       "      <td>b</td>\n",
       "      <td>b</td>\n",
       "      <td>positive</td>\n",
       "    </tr>\n",
       "    <tr>\n",
       "      <th>4</th>\n",
       "      <td>x</td>\n",
       "      <td>x</td>\n",
       "      <td>x</td>\n",
       "      <td>x</td>\n",
       "      <td>o</td>\n",
       "      <td>o</td>\n",
       "      <td>b</td>\n",
       "      <td>o</td>\n",
       "      <td>b</td>\n",
       "      <td>positive</td>\n",
       "    </tr>\n",
       "  </tbody>\n",
       "</table>\n",
       "</div>"
      ],
      "text/plain": [
       "   0  1  2  3  4  5  6  7  8         9\n",
       "0  x  x  x  x  o  o  x  o  o  positive\n",
       "1  x  x  x  x  o  o  o  x  o  positive\n",
       "2  x  x  x  x  o  o  o  o  x  positive\n",
       "3  x  x  x  x  o  o  o  b  b  positive\n",
       "4  x  x  x  x  o  o  b  o  b  positive"
      ]
     },
     "execution_count": 2,
     "metadata": {},
     "output_type": "execute_result"
    }
   ],
   "source": [
    "tic = pd.read_csv(\"tic-tac-toe.data\", header=None)\n",
    "tic.head()"
   ]
  },
  {
   "cell_type": "code",
   "execution_count": 3,
   "metadata": {},
   "outputs": [
    {
     "data": {
      "text/html": [
       "<div>\n",
       "<style scoped>\n",
       "    .dataframe tbody tr th:only-of-type {\n",
       "        vertical-align: middle;\n",
       "    }\n",
       "\n",
       "    .dataframe tbody tr th {\n",
       "        vertical-align: top;\n",
       "    }\n",
       "\n",
       "    .dataframe thead th {\n",
       "        text-align: right;\n",
       "    }\n",
       "</style>\n",
       "<table border=\"1\" class=\"dataframe\">\n",
       "  <thead>\n",
       "    <tr style=\"text-align: right;\">\n",
       "      <th></th>\n",
       "      <th>top-left-square</th>\n",
       "      <th>top-middle-square</th>\n",
       "      <th>top-right-square</th>\n",
       "      <th>middle-left-square</th>\n",
       "      <th>middle-middle-square</th>\n",
       "      <th>middle-right-square</th>\n",
       "      <th>bottom-left-square</th>\n",
       "      <th>bottom-middle-square</th>\n",
       "      <th>bottom-right-square</th>\n",
       "      <th>Class</th>\n",
       "    </tr>\n",
       "  </thead>\n",
       "  <tbody>\n",
       "    <tr>\n",
       "      <th>0</th>\n",
       "      <td>x</td>\n",
       "      <td>x</td>\n",
       "      <td>x</td>\n",
       "      <td>x</td>\n",
       "      <td>o</td>\n",
       "      <td>o</td>\n",
       "      <td>x</td>\n",
       "      <td>o</td>\n",
       "      <td>o</td>\n",
       "      <td>1</td>\n",
       "    </tr>\n",
       "    <tr>\n",
       "      <th>1</th>\n",
       "      <td>x</td>\n",
       "      <td>x</td>\n",
       "      <td>x</td>\n",
       "      <td>x</td>\n",
       "      <td>o</td>\n",
       "      <td>o</td>\n",
       "      <td>o</td>\n",
       "      <td>x</td>\n",
       "      <td>o</td>\n",
       "      <td>1</td>\n",
       "    </tr>\n",
       "    <tr>\n",
       "      <th>2</th>\n",
       "      <td>x</td>\n",
       "      <td>x</td>\n",
       "      <td>x</td>\n",
       "      <td>x</td>\n",
       "      <td>o</td>\n",
       "      <td>o</td>\n",
       "      <td>o</td>\n",
       "      <td>o</td>\n",
       "      <td>x</td>\n",
       "      <td>1</td>\n",
       "    </tr>\n",
       "    <tr>\n",
       "      <th>3</th>\n",
       "      <td>x</td>\n",
       "      <td>x</td>\n",
       "      <td>x</td>\n",
       "      <td>x</td>\n",
       "      <td>o</td>\n",
       "      <td>o</td>\n",
       "      <td>o</td>\n",
       "      <td>b</td>\n",
       "      <td>b</td>\n",
       "      <td>1</td>\n",
       "    </tr>\n",
       "    <tr>\n",
       "      <th>4</th>\n",
       "      <td>x</td>\n",
       "      <td>x</td>\n",
       "      <td>x</td>\n",
       "      <td>x</td>\n",
       "      <td>o</td>\n",
       "      <td>o</td>\n",
       "      <td>b</td>\n",
       "      <td>o</td>\n",
       "      <td>b</td>\n",
       "      <td>1</td>\n",
       "    </tr>\n",
       "  </tbody>\n",
       "</table>\n",
       "</div>"
      ],
      "text/plain": [
       "  top-left-square top-middle-square top-right-square middle-left-square  \\\n",
       "0               x                 x                x                  x   \n",
       "1               x                 x                x                  x   \n",
       "2               x                 x                x                  x   \n",
       "3               x                 x                x                  x   \n",
       "4               x                 x                x                  x   \n",
       "\n",
       "  middle-middle-square middle-right-square bottom-left-square  \\\n",
       "0                    o                   o                  x   \n",
       "1                    o                   o                  o   \n",
       "2                    o                   o                  o   \n",
       "3                    o                   o                  o   \n",
       "4                    o                   o                  b   \n",
       "\n",
       "  bottom-middle-square bottom-right-square  Class  \n",
       "0                    o                   o      1  \n",
       "1                    x                   o      1  \n",
       "2                    o                   x      1  \n",
       "3                    b                   b      1  \n",
       "4                    o                   b      1  "
      ]
     },
     "execution_count": 3,
     "metadata": {},
     "output_type": "execute_result"
    }
   ],
   "source": [
    "cols = {0:\"top-left-square\", 1:\"top-middle-square\", 2:\"top-right-square\", 3:\"middle-left-square\", 4:\"middle-middle-square\", \n",
    "           5:\"middle-right-square\", 6:\"bottom-left-square\", 7:\"bottom-middle-square\", 8:\"bottom-right-square\", 9:\"Class\"}\n",
    "tic1 = tic.rename(columns=cols)\n",
    "tic2 = tic1.replace('positive',1)\n",
    "tictac = tic2.replace('negative',0)\n",
    "tictac.head()"
   ]
  },
  {
   "cell_type": "markdown",
   "metadata": {},
   "source": [
    "### **Data Inspection**"
   ]
  },
  {
   "cell_type": "code",
   "execution_count": 4,
   "metadata": {},
   "outputs": [
    {
     "name": "stdout",
     "output_type": "stream",
     "text": [
      "<class 'pandas.core.frame.DataFrame'>\n",
      "RangeIndex: 958 entries, 0 to 957\n",
      "Data columns (total 10 columns):\n",
      " #   Column                Non-Null Count  Dtype \n",
      "---  ------                --------------  ----- \n",
      " 0   top-left-square       958 non-null    object\n",
      " 1   top-middle-square     958 non-null    object\n",
      " 2   top-right-square      958 non-null    object\n",
      " 3   middle-left-square    958 non-null    object\n",
      " 4   middle-middle-square  958 non-null    object\n",
      " 5   middle-right-square   958 non-null    object\n",
      " 6   bottom-left-square    958 non-null    object\n",
      " 7   bottom-middle-square  958 non-null    object\n",
      " 8   bottom-right-square   958 non-null    object\n",
      " 9   Class                 958 non-null    int64 \n",
      "dtypes: int64(1), object(9)\n",
      "memory usage: 75.0+ KB\n"
     ]
    }
   ],
   "source": [
    "tictac.info()"
   ]
  },
  {
   "cell_type": "code",
   "execution_count": 5,
   "metadata": {},
   "outputs": [
    {
     "data": {
      "text/plain": [
       "top-left-square         0\n",
       "top-middle-square       0\n",
       "top-right-square        0\n",
       "middle-left-square      0\n",
       "middle-middle-square    0\n",
       "middle-right-square     0\n",
       "bottom-left-square      0\n",
       "bottom-middle-square    0\n",
       "bottom-right-square     0\n",
       "Class                   0\n",
       "dtype: int64"
      ]
     },
     "execution_count": 5,
     "metadata": {},
     "output_type": "execute_result"
    }
   ],
   "source": [
    "tictac.isna().sum()"
   ]
  },
  {
   "cell_type": "markdown",
   "metadata": {},
   "source": [
    "#### *There are no NaN values in the dataset.*"
   ]
  },
  {
   "cell_type": "code",
   "execution_count": 6,
   "metadata": {},
   "outputs": [
    {
     "data": {
      "text/html": [
       "<div>\n",
       "<style scoped>\n",
       "    .dataframe tbody tr th:only-of-type {\n",
       "        vertical-align: middle;\n",
       "    }\n",
       "\n",
       "    .dataframe tbody tr th {\n",
       "        vertical-align: top;\n",
       "    }\n",
       "\n",
       "    .dataframe thead th {\n",
       "        text-align: right;\n",
       "    }\n",
       "</style>\n",
       "<table border=\"1\" class=\"dataframe\">\n",
       "  <thead>\n",
       "    <tr style=\"text-align: right;\">\n",
       "      <th></th>\n",
       "      <th>top-left-square</th>\n",
       "      <th>top-middle-square</th>\n",
       "      <th>top-right-square</th>\n",
       "      <th>middle-left-square</th>\n",
       "      <th>middle-middle-square</th>\n",
       "      <th>middle-right-square</th>\n",
       "      <th>bottom-left-square</th>\n",
       "      <th>bottom-middle-square</th>\n",
       "      <th>bottom-right-square</th>\n",
       "    </tr>\n",
       "  </thead>\n",
       "  <tbody>\n",
       "    <tr>\n",
       "      <th>count</th>\n",
       "      <td>958</td>\n",
       "      <td>958</td>\n",
       "      <td>958</td>\n",
       "      <td>958</td>\n",
       "      <td>958</td>\n",
       "      <td>958</td>\n",
       "      <td>958</td>\n",
       "      <td>958</td>\n",
       "      <td>958</td>\n",
       "    </tr>\n",
       "    <tr>\n",
       "      <th>unique</th>\n",
       "      <td>3</td>\n",
       "      <td>3</td>\n",
       "      <td>3</td>\n",
       "      <td>3</td>\n",
       "      <td>3</td>\n",
       "      <td>3</td>\n",
       "      <td>3</td>\n",
       "      <td>3</td>\n",
       "      <td>3</td>\n",
       "    </tr>\n",
       "    <tr>\n",
       "      <th>top</th>\n",
       "      <td>x</td>\n",
       "      <td>x</td>\n",
       "      <td>x</td>\n",
       "      <td>x</td>\n",
       "      <td>x</td>\n",
       "      <td>x</td>\n",
       "      <td>x</td>\n",
       "      <td>x</td>\n",
       "      <td>x</td>\n",
       "    </tr>\n",
       "    <tr>\n",
       "      <th>freq</th>\n",
       "      <td>418</td>\n",
       "      <td>378</td>\n",
       "      <td>418</td>\n",
       "      <td>378</td>\n",
       "      <td>458</td>\n",
       "      <td>378</td>\n",
       "      <td>418</td>\n",
       "      <td>378</td>\n",
       "      <td>418</td>\n",
       "    </tr>\n",
       "  </tbody>\n",
       "</table>\n",
       "</div>"
      ],
      "text/plain": [
       "       top-left-square top-middle-square top-right-square middle-left-square  \\\n",
       "count              958               958              958                958   \n",
       "unique               3                 3                3                  3   \n",
       "top                  x                 x                x                  x   \n",
       "freq               418               378              418                378   \n",
       "\n",
       "       middle-middle-square middle-right-square bottom-left-square  \\\n",
       "count                   958                 958                958   \n",
       "unique                    3                   3                  3   \n",
       "top                       x                   x                  x   \n",
       "freq                    458                 378                418   \n",
       "\n",
       "       bottom-middle-square bottom-right-square  \n",
       "count                   958                 958  \n",
       "unique                    3                   3  \n",
       "top                       x                   x  \n",
       "freq                    378                 418  "
      ]
     },
     "execution_count": 6,
     "metadata": {},
     "output_type": "execute_result"
    }
   ],
   "source": [
    "tictac.describe(include=['object'])"
   ]
  },
  {
   "cell_type": "code",
   "execution_count": 7,
   "metadata": {},
   "outputs": [
    {
     "data": {
      "text/html": [
       "<div>\n",
       "<style scoped>\n",
       "    .dataframe tbody tr th:only-of-type {\n",
       "        vertical-align: middle;\n",
       "    }\n",
       "\n",
       "    .dataframe tbody tr th {\n",
       "        vertical-align: top;\n",
       "    }\n",
       "\n",
       "    .dataframe thead th {\n",
       "        text-align: right;\n",
       "    }\n",
       "</style>\n",
       "<table border=\"1\" class=\"dataframe\">\n",
       "  <thead>\n",
       "    <tr style=\"text-align: right;\">\n",
       "      <th></th>\n",
       "      <th>Class</th>\n",
       "    </tr>\n",
       "  </thead>\n",
       "  <tbody>\n",
       "    <tr>\n",
       "      <th>count</th>\n",
       "      <td>958.000000</td>\n",
       "    </tr>\n",
       "    <tr>\n",
       "      <th>mean</th>\n",
       "      <td>0.653445</td>\n",
       "    </tr>\n",
       "    <tr>\n",
       "      <th>std</th>\n",
       "      <td>0.476121</td>\n",
       "    </tr>\n",
       "    <tr>\n",
       "      <th>min</th>\n",
       "      <td>0.000000</td>\n",
       "    </tr>\n",
       "    <tr>\n",
       "      <th>25%</th>\n",
       "      <td>0.000000</td>\n",
       "    </tr>\n",
       "    <tr>\n",
       "      <th>50%</th>\n",
       "      <td>1.000000</td>\n",
       "    </tr>\n",
       "    <tr>\n",
       "      <th>75%</th>\n",
       "      <td>1.000000</td>\n",
       "    </tr>\n",
       "    <tr>\n",
       "      <th>max</th>\n",
       "      <td>1.000000</td>\n",
       "    </tr>\n",
       "  </tbody>\n",
       "</table>\n",
       "</div>"
      ],
      "text/plain": [
       "            Class\n",
       "count  958.000000\n",
       "mean     0.653445\n",
       "std      0.476121\n",
       "min      0.000000\n",
       "25%      0.000000\n",
       "50%      1.000000\n",
       "75%      1.000000\n",
       "max      1.000000"
      ]
     },
     "execution_count": 7,
     "metadata": {},
     "output_type": "execute_result"
    }
   ],
   "source": [
    "tictac.describe()"
   ]
  },
  {
   "cell_type": "markdown",
   "metadata": {},
   "source": [
    "#### *We have 958 rows of 9 feature variables and 1 target variable. All the variables are categorical*"
   ]
  },
  {
   "cell_type": "markdown",
   "metadata": {},
   "source": [
    "### **Visualization of Dataframe**"
   ]
  },
  {
   "cell_type": "code",
   "execution_count": 8,
   "metadata": {},
   "outputs": [
    {
     "data": {
      "image/png": "[encoded data removed]",
      "text/plain": [
       "<Figure size 864x864 with 10 Axes>"
      ]
     },
     "metadata": {
      "needs_background": "light"
     },
     "output_type": "display_data"
    }
   ],
   "source": [
    "fig, axs = plt.subplots(5, 2, figsize=(12, 12)) # Set the rows, columns and size of the subplots\n",
    "plt.subplots_adjust(hspace = 0.8, top=0.4, bottom=0.1) # Adjust the spacing between subplots\n",
    "\n",
    "i, j = 0,  0 # Initialize i and j variables\n",
    "\n",
    "# Loop Start for plotting of all the columns\n",
    "# Here we are plotting Bar plots of all the columns wrt Count.\n",
    "for col in tictac.columns:\n",
    "    s = tictac[col].value_counts()\n",
    "    axs[i, j].bar(list(s.index.values), s.to_numpy()) # Plot the barplots of all the columns\n",
    "    axs[i, j].set_title(col) # Set the title of each subplot to column names\n",
    "     \n",
    "    j +=1 # Increment the Inner counter\n",
    "    \n",
    "    if j%2 == 0: # Each Row will display only 2 columns. Once the number of columns is reached 2, Counter will be reset to zero\n",
    "        i +=1\n",
    "        j = 0\n",
    "        \n",
    "fig.tight_layout() # Display the plots properly\n",
    "plt.show() # Show the plots"
   ]
  },
  {
   "cell_type": "markdown",
   "metadata": {},
   "source": [
    "### **Observations**\n",
    "- All variables except Class variable tell the moves which were made.\n",
    "- Class value 'positive' tells the number of wins for 'x' assuming that 'x' is played first."
   ]
  },
  {
   "cell_type": "markdown",
   "metadata": {},
   "source": [
    "### Let's convert Categorical columns into numeric columns"
   ]
  },
  {
   "cell_type": "code",
   "execution_count": 9,
   "metadata": {},
   "outputs": [
    {
     "data": {
      "text/html": [
       "<div>\n",
       "<style scoped>\n",
       "    .dataframe tbody tr th:only-of-type {\n",
       "        vertical-align: middle;\n",
       "    }\n",
       "\n",
       "    .dataframe tbody tr th {\n",
       "        vertical-align: top;\n",
       "    }\n",
       "\n",
       "    .dataframe thead th {\n",
       "        text-align: right;\n",
       "    }\n",
       "</style>\n",
       "<table border=\"1\" class=\"dataframe\">\n",
       "  <thead>\n",
       "    <tr style=\"text-align: right;\">\n",
       "      <th></th>\n",
       "      <th>Class</th>\n",
       "      <th>top-left-square_b</th>\n",
       "      <th>top-left-square_o</th>\n",
       "      <th>top-left-square_x</th>\n",
       "      <th>top-middle-square_b</th>\n",
       "      <th>top-middle-square_o</th>\n",
       "      <th>top-middle-square_x</th>\n",
       "      <th>top-right-square_b</th>\n",
       "      <th>top-right-square_o</th>\n",
       "      <th>top-right-square_x</th>\n",
       "      <th>...</th>\n",
       "      <th>middle-right-square_x</th>\n",
       "      <th>bottom-left-square_b</th>\n",
       "      <th>bottom-left-square_o</th>\n",
       "      <th>bottom-left-square_x</th>\n",
       "      <th>bottom-middle-square_b</th>\n",
       "      <th>bottom-middle-square_o</th>\n",
       "      <th>bottom-middle-square_x</th>\n",
       "      <th>bottom-right-square_b</th>\n",
       "      <th>bottom-right-square_o</th>\n",
       "      <th>bottom-right-square_x</th>\n",
       "    </tr>\n",
       "  </thead>\n",
       "  <tbody>\n",
       "    <tr>\n",
       "      <th>0</th>\n",
       "      <td>1</td>\n",
       "      <td>0</td>\n",
       "      <td>0</td>\n",
       "      <td>1</td>\n",
       "      <td>0</td>\n",
       "      <td>0</td>\n",
       "      <td>1</td>\n",
       "      <td>0</td>\n",
       "      <td>0</td>\n",
       "      <td>1</td>\n",
       "      <td>...</td>\n",
       "      <td>0</td>\n",
       "      <td>0</td>\n",
       "      <td>0</td>\n",
       "      <td>1</td>\n",
       "      <td>0</td>\n",
       "      <td>1</td>\n",
       "      <td>0</td>\n",
       "      <td>0</td>\n",
       "      <td>1</td>\n",
       "      <td>0</td>\n",
       "    </tr>\n",
       "    <tr>\n",
       "      <th>1</th>\n",
       "      <td>1</td>\n",
       "      <td>0</td>\n",
       "      <td>0</td>\n",
       "      <td>1</td>\n",
       "      <td>0</td>\n",
       "      <td>0</td>\n",
       "      <td>1</td>\n",
       "      <td>0</td>\n",
       "      <td>0</td>\n",
       "      <td>1</td>\n",
       "      <td>...</td>\n",
       "      <td>0</td>\n",
       "      <td>0</td>\n",
       "      <td>1</td>\n",
       "      <td>0</td>\n",
       "      <td>0</td>\n",
       "      <td>0</td>\n",
       "      <td>1</td>\n",
       "      <td>0</td>\n",
       "      <td>1</td>\n",
       "      <td>0</td>\n",
       "    </tr>\n",
       "    <tr>\n",
       "      <th>2</th>\n",
       "      <td>1</td>\n",
       "      <td>0</td>\n",
       "      <td>0</td>\n",
       "      <td>1</td>\n",
       "      <td>0</td>\n",
       "      <td>0</td>\n",
       "      <td>1</td>\n",
       "      <td>0</td>\n",
       "      <td>0</td>\n",
       "      <td>1</td>\n",
       "      <td>...</td>\n",
       "      <td>0</td>\n",
       "      <td>0</td>\n",
       "      <td>1</td>\n",
       "      <td>0</td>\n",
       "      <td>0</td>\n",
       "      <td>1</td>\n",
       "      <td>0</td>\n",
       "      <td>0</td>\n",
       "      <td>0</td>\n",
       "      <td>1</td>\n",
       "    </tr>\n",
       "    <tr>\n",
       "      <th>3</th>\n",
       "      <td>1</td>\n",
       "      <td>0</td>\n",
       "      <td>0</td>\n",
       "      <td>1</td>\n",
       "      <td>0</td>\n",
       "      <td>0</td>\n",
       "      <td>1</td>\n",
       "      <td>0</td>\n",
       "      <td>0</td>\n",
       "      <td>1</td>\n",
       "      <td>...</td>\n",
       "      <td>0</td>\n",
       "      <td>0</td>\n",
       "      <td>1</td>\n",
       "      <td>0</td>\n",
       "      <td>1</td>\n",
       "      <td>0</td>\n",
       "      <td>0</td>\n",
       "      <td>1</td>\n",
       "      <td>0</td>\n",
       "      <td>0</td>\n",
       "    </tr>\n",
       "    <tr>\n",
       "      <th>4</th>\n",
       "      <td>1</td>\n",
       "      <td>0</td>\n",
       "      <td>0</td>\n",
       "      <td>1</td>\n",
       "      <td>0</td>\n",
       "      <td>0</td>\n",
       "      <td>1</td>\n",
       "      <td>0</td>\n",
       "      <td>0</td>\n",
       "      <td>1</td>\n",
       "      <td>...</td>\n",
       "      <td>0</td>\n",
       "      <td>1</td>\n",
       "      <td>0</td>\n",
       "      <td>0</td>\n",
       "      <td>0</td>\n",
       "      <td>1</td>\n",
       "      <td>0</td>\n",
       "      <td>1</td>\n",
       "      <td>0</td>\n",
       "      <td>0</td>\n",
       "    </tr>\n",
       "  </tbody>\n",
       "</table>\n",
       "<p>5 rows × 28 columns</p>\n",
       "</div>"
      ],
      "text/plain": [
       "   Class  top-left-square_b  top-left-square_o  top-left-square_x  \\\n",
       "0      1                  0                  0                  1   \n",
       "1      1                  0                  0                  1   \n",
       "2      1                  0                  0                  1   \n",
       "3      1                  0                  0                  1   \n",
       "4      1                  0                  0                  1   \n",
       "\n",
       "   top-middle-square_b  top-middle-square_o  top-middle-square_x  \\\n",
       "0                    0                    0                    1   \n",
       "1                    0                    0                    1   \n",
       "2                    0                    0                    1   \n",
       "3                    0                    0                    1   \n",
       "4                    0                    0                    1   \n",
       "\n",
       "   top-right-square_b  top-right-square_o  top-right-square_x  ...  \\\n",
       "0                   0                   0                   1  ...   \n",
       "1                   0                   0                   1  ...   \n",
       "2                   0                   0                   1  ...   \n",
       "3                   0                   0                   1  ...   \n",
       "4                   0                   0                   1  ...   \n",
       "\n",
       "   middle-right-square_x  bottom-left-square_b  bottom-left-square_o  \\\n",
       "0                      0                     0                     0   \n",
       "1                      0                     0                     1   \n",
       "2                      0                     0                     1   \n",
       "3                      0                     0                     1   \n",
       "4                      0                     1                     0   \n",
       "\n",
       "   bottom-left-square_x  bottom-middle-square_b  bottom-middle-square_o  \\\n",
       "0                     1                       0                       1   \n",
       "1                     0                       0                       0   \n",
       "2                     0                       0                       1   \n",
       "3                     0                       1                       0   \n",
       "4                     0                       0                       1   \n",
       "\n",
       "   bottom-middle-square_x  bottom-right-square_b  bottom-right-square_o  \\\n",
       "0                       0                      0                      1   \n",
       "1                       1                      0                      1   \n",
       "2                       0                      0                      0   \n",
       "3                       0                      1                      0   \n",
       "4                       0                      1                      0   \n",
       "\n",
       "   bottom-right-square_x  \n",
       "0                      0  \n",
       "1                      0  \n",
       "2                      1  \n",
       "3                      0  \n",
       "4                      0  \n",
       "\n",
       "[5 rows x 28 columns]"
      ]
     },
     "execution_count": 9,
     "metadata": {},
     "output_type": "execute_result"
    }
   ],
   "source": [
    "cols = tictac.select_dtypes(include=['object']).columns # Identify the Categorical columns\n",
    "data = pd.get_dummies(tictac, columns = cols) # Encode the columns\n",
    "#encoder = OneHotEncoder()\n",
    "#data = encoder.fit_transform(tictac[cols])\n",
    "data.head() # Display the dataframe"
   ]
  },
  {
   "cell_type": "markdown",
   "metadata": {},
   "source": [
    "### **Identify the X (Features) and y (Target) variables**"
   ]
  },
  {
   "cell_type": "code",
   "execution_count": 13,
   "metadata": {},
   "outputs": [],
   "source": [
    "X = data.drop('Class', axis =1) # Identify X Variables\n",
    "y = data.Class # Identify y variables"
   ]
  },
  {
   "cell_type": "markdown",
   "metadata": {},
   "source": [
    "## **Model 1: Random Forest Classifier Model**"
   ]
  },
  {
   "cell_type": "markdown",
   "metadata": {},
   "source": [
    "### **Split the Data into Train, Validation and Test Sets for Random Forest Classifier Model**"
   ]
  },
  {
   "cell_type": "code",
   "execution_count": 14,
   "metadata": {},
   "outputs": [],
   "source": [
    "# In order to split data into train, validation and test sets\n",
    "# We'll be performing train_test_split twice. First, we'll split the data into train:test ratio of 70:30\n",
    "# Further, we'll be splitting 70% of training data into 55% of training and 15% of validation set data.\n",
    "\n",
    "#Split data into train and test\n",
    "X_train1, X_test, y_train1, y_test = train_test_split(X, y, test_size = 0.3, random_state=465) \n",
    "#Further, split train into train and validation sets\n",
    "X_train, X_val, y_train, y_val = train_test_split(X_train1, y_train1, test_size = 0.105, random_state=465)"
   ]
  },
  {
   "cell_type": "code",
   "execution_count": 15,
   "metadata": {},
   "outputs": [
    {
     "name": "stdout",
     "output_type": "stream",
     "text": [
      "Display Results for K Fold: 2\n",
      "Tree #: 5 [0.77666667 0.81270903]\n",
      "Mean Accuracy for Training Set is:  84.8 %\n",
      "Accuracy Score on Validation Set is 92.96%\n",
      "\n",
      "Display Results for K Fold: 3\n",
      "Tree #: 5 [0.8        0.96       0.84422111]\n",
      "Mean Accuracy for Training Set is:  84.8 %\n",
      "Accuracy Score on Validation Set is 92.96%\n",
      "\n",
      "Display Results for K Fold: 4\n",
      "Tree #: 5 [0.83333333 0.86       0.87333333 0.82550336]\n",
      "Mean Accuracy for Training Set is:  84.8 %\n",
      "Accuracy Score on Validation Set is 92.96%\n",
      "\n",
      "Display Results for K Fold: 2\n",
      "Tree #: 8 [0.83       0.84615385]\n",
      "Mean Accuracy for Training Set is:  88.32 %\n",
      "Accuracy Score on Validation Set is 91.55%\n",
      "\n",
      "Display Results for K Fold: 3\n",
      "Tree #: 8 [0.825      0.95       0.88944724]\n",
      "Mean Accuracy for Training Set is:  88.32 %\n",
      "Accuracy Score on Validation Set is 91.55%\n",
      "\n",
      "Display Results for K Fold: 4\n",
      "Tree #: 8 [0.88666667 0.86666667 0.88       0.89932886]\n",
      "Mean Accuracy for Training Set is:  88.32 %\n",
      "Accuracy Score on Validation Set is 91.55%\n",
      "\n",
      "Display Results for K Fold: 2\n",
      "Tree #: 11 [0.86       0.85618729]\n",
      "Mean Accuracy for Training Set is:  90.82 %\n",
      "Accuracy Score on Validation Set is 94.37%\n",
      "\n",
      "Display Results for K Fold: 3\n",
      "Tree #: 11 [0.84       0.94       0.90954774]\n",
      "Mean Accuracy for Training Set is:  90.82 %\n",
      "Accuracy Score on Validation Set is 94.37%\n",
      "\n",
      "Display Results for K Fold: 4\n",
      "Tree #: 11 [0.92666667 0.89333333 0.89333333 0.91946309]\n",
      "Mean Accuracy for Training Set is:  90.82 %\n",
      "Accuracy Score on Validation Set is 94.37%\n",
      "\n",
      "***********************************************\n",
      "All Validation Scores: [0.9295774647887324, 0.9295774647887324, 0.9295774647887324, 0.9154929577464789, 0.9154929577464789, 0.9154929577464789, 0.9436619718309859, 0.9436619718309859, 0.9436619718309859]\n",
      "\n",
      "Best Accuracy Score: 94.37%\n",
      "Best Parameters for Random Forest Classfier: {'n_estimators': 11}\n"
     ]
    }
   ],
   "source": [
    "#Define number of trees and K folds\n",
    "n_trees = range(5,13,3)\n",
    "k_fold = range(2,5)\n",
    "\n",
    "#Initialize placeholder variables to determine the best parameters of the model\n",
    "best_score=0\n",
    "scores_val=[]\n",
    "number_trees=[]\n",
    "\n",
    "#Loop for Model Creation and Evaluation\n",
    "for i in n_trees:\n",
    "    #Loop for K Fold\n",
    "    for j in k_fold:\n",
    "        rfc = RandomForestClassifier(n_estimators = i, random_state=465) # Invoke RandomForestClassifier model \n",
    "        rfc.fit(X_train, y_train) # Fit the model\n",
    "        print(f\"Display Results for K Fold: {j}\") #Print the results for K Folds\n",
    "        print(\"Tree #:\",i,cross_val_score(rfc, X_train, y_train, cv=j)) # Display Cross Val Scores for different number of Trees\n",
    "        \n",
    "        # Evaluation of Mean Accuracy of Training Set\n",
    "        print(\"Mean Accuracy for Training Set is: \", round(sum(cross_val_score(rfc, X_train, y_train, cv=4)/4)*100,2),\"%\") \n",
    "        score = rfc.score(X_val, y_val) # Evaluation of model on validation set\n",
    "        print(f\"Accuracy Score on Validation Set is {100*score:.2f}%\\n\") # Display the accuracies on validation set\n",
    "        scores_val.append(score) # append the scores to an array\n",
    "        if score >= best_score: # if statement to determine the best parameters of the model\n",
    "            best_score=score\n",
    "            best_params={'n_estimators' : i}\n",
    "            \n",
    "print(\"***********************************************\")\n",
    "print(\"All Validation Scores:\",scores_val) # display all validation set accuracies\n",
    "print(f\"\\nBest Accuracy Score: {100*best_score:.2f}%\") # display the best accuracy on validation set\n",
    "\n",
    "# display the parameters that generated the best accuracy on validation set\n",
    "print(f\"Best Parameters for Random Forest Classfier: {best_params}\") "
   ]
  },
  {
   "cell_type": "markdown",
   "metadata": {},
   "source": [
    "### **Evaluation of RFC Model on Test Set**"
   ]
  },
  {
   "cell_type": "code",
   "execution_count": 16,
   "metadata": {},
   "outputs": [
    {
     "name": "stdout",
     "output_type": "stream",
     "text": [
      "Accuracy Score: 94.44%\n"
     ]
    }
   ],
   "source": [
    "# Test Set - Model Accuracy\n",
    "rfc_best = RandomForestClassifier(**best_params, random_state=465) # Implementation of the model with best parameters\n",
    "rfc_best.fit(X_train, y_train) # Fit the model\n",
    "score = rfc_best.score(X_test, y_test) # Evaluate the model on test set\n",
    "           \n",
    "print(f\"Accuracy Score: {100*score:.2f}%\") # display the accuracies on test set"
   ]
  },
  {
   "cell_type": "markdown",
   "metadata": {},
   "source": [
    "### **Confusion Matrix for Random Forest Classifier Model**"
   ]
  },
  {
   "cell_type": "code",
   "execution_count": 17,
   "metadata": {},
   "outputs": [
    {
     "data": {
      "text/plain": [
       "<Figure size 1080x864 with 0 Axes>"
      ]
     },
     "metadata": {},
     "output_type": "display_data"
    },
    {
     "data": {
      "image/png": "[encoded data removed]",
      "text/plain": [
       "<Figure size 432x288 with 2 Axes>"
      ]
     },
     "metadata": {
      "needs_background": "light"
     },
     "output_type": "display_data"
    }
   ],
   "source": [
    "plt.figure(figsize=(15,12)) # Set the size of the plot\n",
    "plot_confusion_matrix(rfc_best, X_test, y_test, display_labels=[\"Negative\",\"Positive\"]) # Plot the confusion Matrix\n",
    "plt.title(\"Confusion Matrix for RFC Model\", size=20) # Set the title of the plot\n",
    "plt.xlabel(\"Predicted Labels\", size=15) # Set x axis label\n",
    "plt.ylabel(\"True Labels\", size=15) # Set y axis label\n",
    "plt.show() # Show the plot"
   ]
  },
  {
   "cell_type": "markdown",
   "metadata": {},
   "source": [
    "## **Model 2: Gradient Boosting Classifier Model**"
   ]
  },
  {
   "cell_type": "markdown",
   "metadata": {},
   "source": [
    "### **Split the Data into Train and Test Sets for Gradient Boosting Classifier Model and XGBoost Classifier Model**"
   ]
  },
  {
   "cell_type": "code",
   "execution_count": 18,
   "metadata": {},
   "outputs": [],
   "source": [
    "#Split data into train and test\n",
    "X_train, X_test, y_train, y_test = train_test_split(X, y, test_size = 0.35, random_state=465) "
   ]
  },
  {
   "cell_type": "code",
   "execution_count": 19,
   "metadata": {},
   "outputs": [
    {
     "name": "stdout",
     "output_type": "stream",
     "text": [
      "Best Score is 99.70%\n",
      "Best Params are {'max_depth': 5, 'max_leaf_nodes': 20, 'min_samples_leaf': 20}\n"
     ]
    }
   ],
   "source": [
    "#Initialize the ranges for maximum depth, maximum leaf nodes and minimum samples leaf.\n",
    "depth=range(3,6,1)\n",
    "leaf_node=range(10,21,2)\n",
    "sample_leaf=range(10,26,2)\n",
    "\n",
    "best_score=0\n",
    "\n",
    "#For loop to build and fit the model\n",
    "for i in depth:\n",
    "    for j in leaf_node:\n",
    "        for k in sample_leaf:\n",
    "            #Build the model\n",
    "            gbc = GradientBoostingClassifier(max_depth=i, max_leaf_nodes=j, min_samples_leaf=k, random_state=465)\n",
    "            \n",
    "            #Fit the model\n",
    "            gbc.fit(X_train, y_train)\n",
    "            \n",
    "            #Evaluate and display the accuracies for training and test data\n",
    "            accuracy_train = gbc.score(X_train, y_train)\n",
    "            accuracy_test = gbc.score(X_test, y_test)\n",
    "            \n",
    "            if accuracy_test >= best_score:\n",
    "                best_score=accuracy_test\n",
    "                best_params={'max_depth': i, 'max_leaf_nodes' : j , 'min_samples_leaf': k}\n",
    "            \n",
    "print(f\"Best Score is {100*best_score:.2f}%\")\n",
    "print(f\"Best Params are {best_params}\")"
   ]
  },
  {
   "cell_type": "markdown",
   "metadata": {},
   "source": [
    "### **Creation of Gradient Boosting Classifier Model with Best Parameters**"
   ]
  },
  {
   "cell_type": "code",
   "execution_count": 20,
   "metadata": {},
   "outputs": [
    {
     "name": "stdout",
     "output_type": "stream",
     "text": [
      "Accuracy Score of Training Data is 100.00%\n",
      "Accuracy Score of Test Data is 99.70%\n"
     ]
    }
   ],
   "source": [
    "gbc_best = GradientBoostingClassifier(**best_params, random_state=465) # Create GBC Model with Best parameters.\n",
    "            \n",
    "#Fit the model\n",
    "gbc_best.fit(X_train, y_train)\n",
    "            \n",
    "#Evaluate and display the accuracies for training and test data\n",
    "accuracy_train = gbc_best.score(X_train, y_train)\n",
    "accuracy_test = gbc_best.score(X_test, y_test)\n",
    "print(f\"Accuracy Score of Training Data is {100*accuracy_train:.2f}%\")\n",
    "print(f\"Accuracy Score of Test Data is {100*accuracy_test:.2f}%\")"
   ]
  },
  {
   "cell_type": "markdown",
   "metadata": {},
   "source": [
    "### **Confusion Matrix for Gradient Boosting Classifier Model**"
   ]
  },
  {
   "cell_type": "code",
   "execution_count": 21,
   "metadata": {},
   "outputs": [
    {
     "data": {
      "text/plain": [
       "<Figure size 1080x864 with 0 Axes>"
      ]
     },
     "metadata": {},
     "output_type": "display_data"
    },
    {
     "data": {
      "image/png": "[encoded data removed]",
      "text/plain": [
       "<Figure size 432x288 with 2 Axes>"
      ]
     },
     "metadata": {
      "needs_background": "light"
     },
     "output_type": "display_data"
    }
   ],
   "source": [
    "plt.figure(figsize=(15,12)) # Set the size of the plot\n",
    "plot_confusion_matrix(gbc_best, X_test, y_test, display_labels=[\"Negative\",\"Positive\"]) # Plot the confusion Matrix\n",
    "plt.title(\"Confusion Matrix for GBC Model\", size=20) # Set the title of the plot\n",
    "plt.xlabel(\"Predicted Labels\", size=15) # Set x axis label\n",
    "plt.ylabel(\"True Labels\", size=15) # Set y axis label\n",
    "plt.show() # Show the plot"
   ]
  },
  {
   "cell_type": "markdown",
   "metadata": {},
   "source": [
    "## **Model 3: XGBClassifier Model**"
   ]
  },
  {
   "cell_type": "code",
   "execution_count": 22,
   "metadata": {},
   "outputs": [
    {
     "name": "stdout",
     "output_type": "stream",
     "text": [
      "Best Score: 97.43%\n",
      "Best Params: {'max_depth': 5, 'max_leaf_nodes': 10, 'min_samples_leaf': 10}\n"
     ]
    }
   ],
   "source": [
    "xgb = XGBClassifier(random_state=465) # Invoke the model\n",
    "\n",
    "# Define the parameter grid that is to be used in GridSearchCV\n",
    "#Initialize the Grid Parameters\n",
    "param_grid = {\n",
    "    'max_depth' : range(3,6,1),\n",
    "    'max_leaf_nodes' : range(10,21,2),\n",
    "    'min_samples_leaf' : range(10,26,2)\n",
    "}\n",
    "\n",
    "# Apply GridSearchCV to identify the best parameters for XGBClassifier Model\n",
    "grid = GridSearchCV(estimator=xgb,\n",
    "                    param_grid=param_grid,\n",
    "                    cv=KFold(n_splits=4, random_state=465), verbose=0)\n",
    "\n",
    "grid_result = grid.fit(X_train, y_train) # Fit the model\n",
    "best_params = grid_result.best_params_ # Save the best parameters in a variable for later use\n",
    "\n",
    "print(f'Best Score: {100*grid_result.best_score_:.2f}%') # Display best score\n",
    "print(f'Best Params: {grid_result.best_params_}') # Display parameters which yielded best scores"
   ]
  },
  {
   "cell_type": "markdown",
   "metadata": {},
   "source": [
    "### **Build the XGBClassifier Model with Best Parameters**"
   ]
  },
  {
   "cell_type": "code",
   "execution_count": 23,
   "metadata": {},
   "outputs": [
    {
     "name": "stdout",
     "output_type": "stream",
     "text": [
      "Accuracy Score: 97.62%\n"
     ]
    }
   ],
   "source": [
    "xgb_best = XGBClassifier(**best_params, random_state=465, verbosity=0) # Invoke the XGBoost model with best parameters\n",
    "xgb_best.fit(X_train, y_train) # FIt the model\n",
    "score = xgb_best.score(X_test, y_test) # Evaluate the model on Test Set\n",
    "           \n",
    "print(f\"Accuracy Score: {100*score:.2f}%\") #Display the accuracy on test set"
   ]
  },
  {
   "cell_type": "markdown",
   "metadata": {},
   "source": [
    "### **Confusion Matrix for XGBClassifier Model**"
   ]
  },
  {
   "cell_type": "code",
   "execution_count": 24,
   "metadata": {},
   "outputs": [
    {
     "data": {
      "text/plain": [
       "<Figure size 1080x864 with 0 Axes>"
      ]
     },
     "metadata": {},
     "output_type": "display_data"
    },
    {
     "data": {
      "image/png": "[encoded data removed]",
      "text/plain": [
       "<Figure size 432x288 with 2 Axes>"
      ]
     },
     "metadata": {
      "needs_background": "light"
     },
     "output_type": "display_data"
    }
   ],
   "source": [
    "plt.figure(figsize=(15,12)) # Set the size of the plot\n",
    "plot_confusion_matrix(xgb_best, X_test, y_test, display_labels=[\"Negative\",\"Positive\"]) # Plot the confusion Matrix\n",
    "plt.title(\"Confusion Matrix for XGB Classifier Model\", size=20) # Set the title of the plot\n",
    "plt.xlabel(\"Predicted Labels\", size=15) # Set x axis label\n",
    "plt.ylabel(\"True Labels\", size=15) # Set y axis label\n",
    "plt.show() # Show the plot"
   ]
  },
  {
   "cell_type": "markdown",
   "metadata": {},
   "source": [
    "### **Prediction**"
   ]
  },
  {
   "cell_type": "code",
   "execution_count": 48,
   "metadata": {},
   "outputs": [
    {
     "data": {
      "text/html": [
       "<div>\n",
       "<style scoped>\n",
       "    .dataframe tbody tr th:only-of-type {\n",
       "        vertical-align: middle;\n",
       "    }\n",
       "\n",
       "    .dataframe tbody tr th {\n",
       "        vertical-align: top;\n",
       "    }\n",
       "\n",
       "    .dataframe thead th {\n",
       "        text-align: right;\n",
       "    }\n",
       "</style>\n",
       "<table border=\"1\" class=\"dataframe\">\n",
       "  <thead>\n",
       "    <tr style=\"text-align: right;\">\n",
       "      <th></th>\n",
       "      <th>top-left-square</th>\n",
       "      <th>top-middle-square</th>\n",
       "      <th>top-right-square</th>\n",
       "      <th>middle-left-square</th>\n",
       "      <th>middle-middle-square</th>\n",
       "      <th>middle-right-square</th>\n",
       "      <th>bottom-left-square</th>\n",
       "      <th>bottom-middle-square</th>\n",
       "      <th>bottom-right-square</th>\n",
       "    </tr>\n",
       "  </thead>\n",
       "  <tbody>\n",
       "    <tr>\n",
       "      <th>0</th>\n",
       "      <td>x</td>\n",
       "      <td>o</td>\n",
       "      <td>b</td>\n",
       "      <td>b</td>\n",
       "      <td>x</td>\n",
       "      <td>o</td>\n",
       "      <td>b</td>\n",
       "      <td>b</td>\n",
       "      <td>b</td>\n",
       "    </tr>\n",
       "    <tr>\n",
       "      <th>1</th>\n",
       "      <td>x</td>\n",
       "      <td>x</td>\n",
       "      <td>x</td>\n",
       "      <td>x</td>\n",
       "      <td>x</td>\n",
       "      <td>o</td>\n",
       "      <td>b</td>\n",
       "      <td>x</td>\n",
       "      <td>o</td>\n",
       "    </tr>\n",
       "    <tr>\n",
       "      <th>2</th>\n",
       "      <td>x</td>\n",
       "      <td>o</td>\n",
       "      <td>x</td>\n",
       "      <td>b</td>\n",
       "      <td>b</td>\n",
       "      <td>o</td>\n",
       "      <td>b</td>\n",
       "      <td>o</td>\n",
       "      <td>x</td>\n",
       "    </tr>\n",
       "    <tr>\n",
       "      <th>3</th>\n",
       "      <td>o</td>\n",
       "      <td>b</td>\n",
       "      <td>o</td>\n",
       "      <td>o</td>\n",
       "      <td>o</td>\n",
       "      <td>x</td>\n",
       "      <td>o</td>\n",
       "      <td>b</td>\n",
       "      <td>x</td>\n",
       "    </tr>\n",
       "    <tr>\n",
       "      <th>4</th>\n",
       "      <td>b</td>\n",
       "      <td>b</td>\n",
       "      <td>b</td>\n",
       "      <td>x</td>\n",
       "      <td>x</td>\n",
       "      <td>b</td>\n",
       "      <td>x</td>\n",
       "      <td>x</td>\n",
       "      <td>b</td>\n",
       "    </tr>\n",
       "  </tbody>\n",
       "</table>\n",
       "</div>"
      ],
      "text/plain": [
       "  top-left-square top-middle-square top-right-square middle-left-square  \\\n",
       "0               x                 o                b                  b   \n",
       "1               x                 x                x                  x   \n",
       "2               x                 o                x                  b   \n",
       "3               o                 b                o                  o   \n",
       "4               b                 b                b                  x   \n",
       "\n",
       "  middle-middle-square middle-right-square bottom-left-square  \\\n",
       "0                    x                   o                  b   \n",
       "1                    x                   o                  b   \n",
       "2                    b                   o                  b   \n",
       "3                    o                   x                  o   \n",
       "4                    x                   b                  x   \n",
       "\n",
       "  bottom-middle-square bottom-right-square  \n",
       "0                    b                   b  \n",
       "1                    x                   o  \n",
       "2                    o                   x  \n",
       "3                    b                   x  \n",
       "4                    x                   b  "
      ]
     },
     "execution_count": 48,
     "metadata": {},
     "output_type": "execute_result"
    }
   ],
   "source": [
    "df = pd.DataFrame({0:['x','x','x','o','b','x'],1:['o','x','o','b','b','o'],2:['b','x','x','o','b','o'],3:['b','x','b','o','x','b'],\n",
    "                   4:['x','x','b','o','x','o'],5:['o','o','o','x','b','x'],6:['b','b','b','o','x','o'],7:['b','x','o','b','x','b'],8:['b','o','x','x','b','x']})\n",
    "cols = {0:\"top-left-square\", 1:\"top-middle-square\", 2:\"top-right-square\", 3:\"middle-left-square\", 4:\"middle-middle-square\", \n",
    "           5:\"middle-right-square\", 6:\"bottom-left-square\", 7:\"bottom-middle-square\", 8:\"bottom-right-square\", 9:\"Class\"}\n",
    "ticp = df.rename(columns=cols)\n",
    "ticp.head()"
   ]
  },
  {
   "cell_type": "code",
   "execution_count": 49,
   "metadata": {},
   "outputs": [
    {
     "data": {
      "text/html": [
       "<div>\n",
       "<style scoped>\n",
       "    .dataframe tbody tr th:only-of-type {\n",
       "        vertical-align: middle;\n",
       "    }\n",
       "\n",
       "    .dataframe tbody tr th {\n",
       "        vertical-align: top;\n",
       "    }\n",
       "\n",
       "    .dataframe thead th {\n",
       "        text-align: right;\n",
       "    }\n",
       "</style>\n",
       "<table border=\"1\" class=\"dataframe\">\n",
       "  <thead>\n",
       "    <tr style=\"text-align: right;\">\n",
       "      <th></th>\n",
       "      <th>top-left-square_b</th>\n",
       "      <th>top-left-square_o</th>\n",
       "      <th>top-left-square_x</th>\n",
       "      <th>top-middle-square_b</th>\n",
       "      <th>top-middle-square_o</th>\n",
       "      <th>top-middle-square_x</th>\n",
       "      <th>top-right-square_b</th>\n",
       "      <th>top-right-square_o</th>\n",
       "      <th>top-right-square_x</th>\n",
       "      <th>middle-left-square_b</th>\n",
       "      <th>...</th>\n",
       "      <th>middle-right-square_x</th>\n",
       "      <th>bottom-left-square_b</th>\n",
       "      <th>bottom-left-square_o</th>\n",
       "      <th>bottom-left-square_x</th>\n",
       "      <th>bottom-middle-square_b</th>\n",
       "      <th>bottom-middle-square_o</th>\n",
       "      <th>bottom-middle-square_x</th>\n",
       "      <th>bottom-right-square_b</th>\n",
       "      <th>bottom-right-square_o</th>\n",
       "      <th>bottom-right-square_x</th>\n",
       "    </tr>\n",
       "  </thead>\n",
       "  <tbody>\n",
       "    <tr>\n",
       "      <th>0</th>\n",
       "      <td>0</td>\n",
       "      <td>0</td>\n",
       "      <td>1</td>\n",
       "      <td>0</td>\n",
       "      <td>1</td>\n",
       "      <td>0</td>\n",
       "      <td>1</td>\n",
       "      <td>0</td>\n",
       "      <td>0</td>\n",
       "      <td>1</td>\n",
       "      <td>...</td>\n",
       "      <td>0</td>\n",
       "      <td>1</td>\n",
       "      <td>0</td>\n",
       "      <td>0</td>\n",
       "      <td>1</td>\n",
       "      <td>0</td>\n",
       "      <td>0</td>\n",
       "      <td>1</td>\n",
       "      <td>0</td>\n",
       "      <td>0</td>\n",
       "    </tr>\n",
       "    <tr>\n",
       "      <th>1</th>\n",
       "      <td>0</td>\n",
       "      <td>0</td>\n",
       "      <td>1</td>\n",
       "      <td>0</td>\n",
       "      <td>0</td>\n",
       "      <td>1</td>\n",
       "      <td>0</td>\n",
       "      <td>0</td>\n",
       "      <td>1</td>\n",
       "      <td>0</td>\n",
       "      <td>...</td>\n",
       "      <td>0</td>\n",
       "      <td>1</td>\n",
       "      <td>0</td>\n",
       "      <td>0</td>\n",
       "      <td>0</td>\n",
       "      <td>0</td>\n",
       "      <td>1</td>\n",
       "      <td>0</td>\n",
       "      <td>1</td>\n",
       "      <td>0</td>\n",
       "    </tr>\n",
       "    <tr>\n",
       "      <th>2</th>\n",
       "      <td>0</td>\n",
       "      <td>0</td>\n",
       "      <td>1</td>\n",
       "      <td>0</td>\n",
       "      <td>1</td>\n",
       "      <td>0</td>\n",
       "      <td>0</td>\n",
       "      <td>0</td>\n",
       "      <td>1</td>\n",
       "      <td>1</td>\n",
       "      <td>...</td>\n",
       "      <td>0</td>\n",
       "      <td>1</td>\n",
       "      <td>0</td>\n",
       "      <td>0</td>\n",
       "      <td>0</td>\n",
       "      <td>1</td>\n",
       "      <td>0</td>\n",
       "      <td>0</td>\n",
       "      <td>0</td>\n",
       "      <td>1</td>\n",
       "    </tr>\n",
       "    <tr>\n",
       "      <th>3</th>\n",
       "      <td>0</td>\n",
       "      <td>1</td>\n",
       "      <td>0</td>\n",
       "      <td>1</td>\n",
       "      <td>0</td>\n",
       "      <td>0</td>\n",
       "      <td>0</td>\n",
       "      <td>1</td>\n",
       "      <td>0</td>\n",
       "      <td>0</td>\n",
       "      <td>...</td>\n",
       "      <td>1</td>\n",
       "      <td>0</td>\n",
       "      <td>1</td>\n",
       "      <td>0</td>\n",
       "      <td>1</td>\n",
       "      <td>0</td>\n",
       "      <td>0</td>\n",
       "      <td>0</td>\n",
       "      <td>0</td>\n",
       "      <td>1</td>\n",
       "    </tr>\n",
       "    <tr>\n",
       "      <th>4</th>\n",
       "      <td>1</td>\n",
       "      <td>0</td>\n",
       "      <td>0</td>\n",
       "      <td>1</td>\n",
       "      <td>0</td>\n",
       "      <td>0</td>\n",
       "      <td>1</td>\n",
       "      <td>0</td>\n",
       "      <td>0</td>\n",
       "      <td>0</td>\n",
       "      <td>...</td>\n",
       "      <td>0</td>\n",
       "      <td>0</td>\n",
       "      <td>0</td>\n",
       "      <td>1</td>\n",
       "      <td>0</td>\n",
       "      <td>0</td>\n",
       "      <td>1</td>\n",
       "      <td>1</td>\n",
       "      <td>0</td>\n",
       "      <td>0</td>\n",
       "    </tr>\n",
       "    <tr>\n",
       "      <th>5</th>\n",
       "      <td>0</td>\n",
       "      <td>0</td>\n",
       "      <td>1</td>\n",
       "      <td>0</td>\n",
       "      <td>1</td>\n",
       "      <td>0</td>\n",
       "      <td>0</td>\n",
       "      <td>1</td>\n",
       "      <td>0</td>\n",
       "      <td>1</td>\n",
       "      <td>...</td>\n",
       "      <td>1</td>\n",
       "      <td>0</td>\n",
       "      <td>1</td>\n",
       "      <td>0</td>\n",
       "      <td>1</td>\n",
       "      <td>0</td>\n",
       "      <td>0</td>\n",
       "      <td>0</td>\n",
       "      <td>0</td>\n",
       "      <td>1</td>\n",
       "    </tr>\n",
       "  </tbody>\n",
       "</table>\n",
       "<p>6 rows × 27 columns</p>\n",
       "</div>"
      ],
      "text/plain": [
       "   top-left-square_b  top-left-square_o  top-left-square_x  \\\n",
       "0                  0                  0                  1   \n",
       "1                  0                  0                  1   \n",
       "2                  0                  0                  1   \n",
       "3                  0                  1                  0   \n",
       "4                  1                  0                  0   \n",
       "5                  0                  0                  1   \n",
       "\n",
       "   top-middle-square_b  top-middle-square_o  top-middle-square_x  \\\n",
       "0                    0                    1                    0   \n",
       "1                    0                    0                    1   \n",
       "2                    0                    1                    0   \n",
       "3                    1                    0                    0   \n",
       "4                    1                    0                    0   \n",
       "5                    0                    1                    0   \n",
       "\n",
       "   top-right-square_b  top-right-square_o  top-right-square_x  \\\n",
       "0                   1                   0                   0   \n",
       "1                   0                   0                   1   \n",
       "2                   0                   0                   1   \n",
       "3                   0                   1                   0   \n",
       "4                   1                   0                   0   \n",
       "5                   0                   1                   0   \n",
       "\n",
       "   middle-left-square_b  ...  middle-right-square_x  bottom-left-square_b  \\\n",
       "0                     1  ...                      0                     1   \n",
       "1                     0  ...                      0                     1   \n",
       "2                     1  ...                      0                     1   \n",
       "3                     0  ...                      1                     0   \n",
       "4                     0  ...                      0                     0   \n",
       "5                     1  ...                      1                     0   \n",
       "\n",
       "   bottom-left-square_o  bottom-left-square_x  bottom-middle-square_b  \\\n",
       "0                     0                     0                       1   \n",
       "1                     0                     0                       0   \n",
       "2                     0                     0                       0   \n",
       "3                     1                     0                       1   \n",
       "4                     0                     1                       0   \n",
       "5                     1                     0                       1   \n",
       "\n",
       "   bottom-middle-square_o  bottom-middle-square_x  bottom-right-square_b  \\\n",
       "0                       0                       0                      1   \n",
       "1                       0                       1                      0   \n",
       "2                       1                       0                      0   \n",
       "3                       0                       0                      0   \n",
       "4                       0                       1                      1   \n",
       "5                       0                       0                      0   \n",
       "\n",
       "   bottom-right-square_o  bottom-right-square_x  \n",
       "0                      0                      0  \n",
       "1                      1                      0  \n",
       "2                      0                      1  \n",
       "3                      0                      1  \n",
       "4                      0                      0  \n",
       "5                      0                      1  \n",
       "\n",
       "[6 rows x 27 columns]"
      ]
     },
     "execution_count": 49,
     "metadata": {},
     "output_type": "execute_result"
    }
   ],
   "source": [
    "cols = ticp.select_dtypes(include=['object']).columns # Identify the Categorical columns\n",
    "tic_p = pd.get_dummies(ticp, columns = cols) # Encode the columns\n",
    "tic_p"
   ]
  },
  {
   "cell_type": "code",
   "execution_count": 50,
   "metadata": {},
   "outputs": [
    {
     "data": {
      "text/plain": [
       "(6, 27)"
      ]
     },
     "execution_count": 50,
     "metadata": {},
     "output_type": "execute_result"
    }
   ],
   "source": [
    "tic_p.shape"
   ]
  },
  {
   "cell_type": "code",
   "execution_count": 57,
   "metadata": {},
   "outputs": [
    {
     "data": {
      "text/plain": [
       "(6, 27)"
      ]
     },
     "execution_count": 57,
     "metadata": {},
     "output_type": "execute_result"
    }
   ],
   "source": [
    "tic_a = tic_p.to_numpy() # Display the dataframe\n",
    "tic_a.shape"
   ]
  },
  {
   "cell_type": "code",
   "execution_count": 59,
   "metadata": {},
   "outputs": [],
   "source": [
    "#y_model_xgb = xgb_best.predict(tic_a)\n",
    "#y_model_xgb"
   ]
  },
  {
   "cell_type": "markdown",
   "metadata": {},
   "source": [
    "### **Prediction with GBC**"
   ]
  },
  {
   "cell_type": "code",
   "execution_count": 60,
   "metadata": {},
   "outputs": [
    {
     "data": {
      "text/plain": [
       "array([1, 1, 1, 0, 1, 0], dtype=int64)"
      ]
     },
     "execution_count": 60,
     "metadata": {},
     "output_type": "execute_result"
    }
   ],
   "source": [
    "y_model_gbc = gbc_best.predict(tic_a)\n",
    "y_model_gbc"
   ]
  },
  {
   "cell_type": "markdown",
   "metadata": {},
   "source": [
    "### **Prediction with RFC**"
   ]
  },
  {
   "cell_type": "code",
   "execution_count": 61,
   "metadata": {},
   "outputs": [
    {
     "data": {
      "text/plain": [
       "array([1, 1, 1, 0, 1, 0], dtype=int64)"
      ]
     },
     "execution_count": 61,
     "metadata": {},
     "output_type": "execute_result"
    }
   ],
   "source": [
    "y_model_rfc = rfc_best.predict(tic_a)\n",
    "y_model_rfc"
   ]
  },
  {
   "cell_type": "code",
   "execution_count": null,
   "metadata": {},
   "outputs": [],
   "source": []
  }
 ],
 "metadata": {
  "kernelspec": {
   "display_name": "Python 3",
   "language": "python",
   "name": "python3"
  },
  "language_info": {
   "codemirror_mode": {
    "name": "ipython",
    "version": 3
   },
   "file_extension": ".py",
   "mimetype": "text/x-python",
   "name": "python",
   "nbconvert_exporter": "python",
   "pygments_lexer": "ipython3",
   "version": "3.7.7"
  }
 },
 "nbformat": 4,
 "nbformat_minor": 4
}
